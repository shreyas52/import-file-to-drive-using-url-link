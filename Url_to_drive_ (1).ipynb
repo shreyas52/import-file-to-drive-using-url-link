{
  "cells": [
    {
      "cell_type": "code",
      "execution_count": null,
      "metadata": {
        "id": "fF_YRBgKCth2"
      },
      "outputs": [],
      "source": [
        "import requests\n",
        "from google.colab import drive\n",
        "import os\n",
        "from tqdm import tqdm"
      ]
    },
    {
      "cell_type": "code",
      "execution_count": null,
      "metadata": {
        "colab": {
          "base_uri": "https://localhost:8080/"
        },
        "id": "Hn-F59MtCyI8",
        "outputId": "4d4e1055-709c-4cf8-a0da-309d5b9b0536"
      },
      "outputs": [
        {
          "output_type": "stream",
          "name": "stdout",
          "text": [
            "Mounted at /content/drive\n"
          ]
        }
      ],
      "source": [
        "# Mount your Google Drive\n",
        "drive.mount('/content/drive')"
      ]
    },
    {
      "cell_type": "code",
      "execution_count": null,
      "metadata": {
        "id": "tfmofUY0DjcS"
      },
      "outputs": [],
      "source": [
        "# Specify the path where you want to save the file on your Drive\n",
        "save_path = '/content/drive/MyDrive'  # Replace with your desired folder"
      ]
    },
    {
      "cell_type": "code",
      "execution_count": null,
      "metadata": {
        "id": "j1XoHjimC8S4"
      },
      "outputs": [],
      "source": [
        "# Prompt user for the file URL\n",
        "file_url = input(\"Enter the URL of the file you want to download: \")"
      ]
    },
    {
      "cell_type": "code",
      "execution_count": null,
      "metadata": {
        "id": "3SXrPttHG8QI",
        "colab": {
          "base_uri": "https://localhost:8080/"
        },
        "outputId": "61230491-ab07-444a-e21d-d2745b76d429"
      },
      "outputs": [
        {
          "name": "stdout",
          "output_type": "stream",
          "text": [
            "Enter the desired file name: \n"
          ]
        }
      ],
      "source": [
        "# Get the file name from the user (optional)\n",
        "file_name = input(\"Enter the desired file name: \")"
      ]
    },
    {
      "cell_type": "code",
      "execution_count": null,
      "metadata": {
        "id": "wpoM86FmELOJ"
      },
      "outputs": [],
      "source": [
        "# Get the file name from the URL\n",
        "file_name = file_url.split('/')[-1]\n",
        "# Display the file name\n",
        "print(f\"File name: {file_name}\")"
      ]
    },
    {
      "cell_type": "code",
      "execution_count": null,
      "metadata": {
        "id": "pa2q3mFmEgIv"
      },
      "outputs": [],
      "source": [
        "# Download the file and save it to the specified path with progress bar\n",
        "response = requests.get(file_url, stream=True)\n",
        "total_size = int(response.headers.get('content-length', 0))\n",
        "with open(os.path.join(save_path, file_name), 'wb') as file:\n",
        "    with tqdm(unit='B', unit_scale=True, total=total_size) as pbar:\n",
        "        for data in response.iter_content(chunk_size=1024):\n",
        "            size = len(data)\n",
        "            file.write(data)\n",
        "            pbar.update(size)\n",
        "\n",
        "print(f\"File '{file_name}' downloaded successfully!\")"
      ]
    }
  ],
  "metadata": {
    "colab": {
      "provenance": []
    },
    "kernelspec": {
      "display_name": "Python 3",
      "name": "python3"
    },
    "language_info": {
      "name": "python"
    }
  },
  "nbformat": 4,
  "nbformat_minor": 0
}